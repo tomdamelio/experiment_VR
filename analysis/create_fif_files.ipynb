{
 "cells": [
  {
   "cell_type": "code",
   "execution_count": 1,
   "metadata": {},
   "outputs": [],
   "source": [
    "import os\n",
    "import glob\n",
    "import re\n",
    "import matplotlib.pyplot as plt\n",
    "\n",
    "import pyxdf\n",
    "\n",
    "import mne\n",
    "from mnelab.io.xdf import read_raw_xdf\n"
   ]
  },
  {
   "cell_type": "code",
   "execution_count": 20,
   "metadata": {},
   "outputs": [
    {
     "name": "stdout",
     "output_type": "stream",
     "text": [
      "['../results\\\\sub-03\\\\ses-A\\\\physio\\\\sub-03_ses-a_task-experiment_vr_non_immersive_physio.xdf']\n",
      "Task name: experiment_vr_non_immersive\n",
      "Shape Markers: (0,)\n",
      "Shape Markers: (405,)\n",
      "Creating RawArray with float64 data, n_channels=49, n_times=4076250\n",
      "    Range : 0 ... 4076249 =      0.000 ...  8152.537 secs\n",
      "Ready.\n",
      "<Info | 7 non-empty values\n",
      " bads: []\n",
      " ch_names: FP1, FP2, F3, F4, C3, C4, P3, P4, O1, O2, F7, F8, T7, T8, P7, ...\n",
      " chs: 32 EEG, 17 misc\n",
      " custom_ref_applied: False\n",
      " highpass: 0.0 Hz\n",
      " lowpass: 250.0 Hz\n",
      " meas_date: unspecified\n",
      " nchan: 49\n",
      " projs: []\n",
      " sfreq: 500.0 Hz\n",
      ">\n",
      "Overwriting existing file.\n",
      "Writing C:\\Users\\dameliotomas\\experiment_VR\\results\\sub-03\\ses-A\\eeg\\sub-03_ses-a_task-experiment_vr_non_immersive_eeg.fif\n",
      "Closing C:\\Users\\dameliotomas\\experiment_VR\\results\\sub-03\\ses-A\\eeg\\sub-03_ses-a_task-experiment_vr_non_immersive_eeg.fif\n",
      "[done]\n"
     ]
    }
   ],
   "source": [
    "for sub_i in ['01', '02', '03', '04','05', '06']:\n",
    "\n",
    "    dir_folder = 'C:/Users/dameliotomas/experiment_VR/'\n",
    "    results_folder = 'results'\n",
    "    subject = sub_i\n",
    "    session = 'A'\n",
    "    data = 'task-experiment_vr_non_immersive_physio.xdf'\n",
    "    fname = os.path.join(f\"sub-{subject}_\" + f\"ses-{session.lower()}_\" + f\"{data}\")\n",
    "\n",
    "    full_path = os.path.join('../', results_folder, f\"sub-{subject}\", f\"ses-{session.upper()}\", 'physio', fname)\n",
    "    xdf_files = glob.glob(full_path)\n",
    "\n",
    "    print([file for file in xdf_files])\n",
    "\n",
    "\n",
    "\n",
    "    for file in xdf_files:\n",
    "        match = re.search('task-(.*?)_physio', file)\n",
    "\n",
    "\n",
    "        task = match.group(1)\n",
    "        print(f'Task name: {task}')\n",
    "\n",
    "        streams, header = pyxdf.load_xdf(file)\n",
    "        \n",
    "        for stream in streams:\n",
    "            if  stream['info']['type'][0] == 'EEG':\n",
    "                raw = read_raw_xdf(file, stream_ids=[stream['info']['stream_id']],preload=True)\n",
    "                print(raw.info)\n",
    "\n",
    "                # Downsample the data to 500 Hz\n",
    "                raw.resample(500, npad=\"auto\")\n",
    "\n",
    "                # raw.plot()\n",
    "                # plt.show()\n",
    "                data = 'eeg'\n",
    "\n",
    "                results_name = f\"sub-{subject}/ses-{session.upper()}/{data}/sub-{subject}_ses-{session.lower()}_task-{task}_{data}.fif\"\n",
    "                os.makedirs(os.path.join(dir_folder, results_folder, f'sub-{subject}/ses-{session.upper()}/{data}/'), exist_ok=True)\n",
    "\n",
    "                raw.save(os.path.join(dir_folder, results_folder, results_name), overwrite=True)\n",
    "            \n",
    "            elif stream['info']['type'][0] == 'gaze':\n",
    "                raw = read_raw_xdf(file, stream_ids=[stream['info']['stream_id']],preload=True)\n",
    "                print(raw.info)\n",
    "\n",
    "                # raw.plot()\n",
    "                # plt.show()\n",
    "                data = 'gaze'\n",
    "\n",
    "                results_name = f\"sub-{subject}/ses-{session.upper()}/{data}/sub-{subject}_ses-{session.lower()}_task-{task}_{data}.fif\"\n",
    "                os.makedirs(os.path.join(dir_folder, results_folder, f'sub-{subject}/ses-{session.upper()}/{data}/'), exist_ok=True)\n",
    "\n",
    "                raw.save(os.path.join(dir_folder, results_folder, results_name), overwrite=True)\n",
    "                \n",
    "            elif stream['info']['type'][0] == 'Markers':\n",
    "                print('Shape Markers:', stream['time_stamps'].shape)"
   ]
  },
  {
   "cell_type": "code",
   "execution_count": null,
   "metadata": {},
   "outputs": [],
   "source": []
  }
 ],
 "metadata": {
  "kernelspec": {
   "display_name": "mnelab",
   "language": "python",
   "name": "python3"
  },
  "language_info": {
   "codemirror_mode": {
    "name": "ipython",
    "version": 3
   },
   "file_extension": ".py",
   "mimetype": "text/x-python",
   "name": "python",
   "nbconvert_exporter": "python",
   "pygments_lexer": "ipython3",
   "version": "3.11.5"
  }
 },
 "nbformat": 4,
 "nbformat_minor": 2
}
